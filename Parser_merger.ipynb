{
 "cells": [
  {
   "cell_type": "code",
   "execution_count": 1,
   "id": "fb5c161e",
   "metadata": {
    "ExecuteTime": {
     "end_time": "2023-03-27T17:12:04.325275Z",
     "start_time": "2023-03-27T17:12:04.300147Z"
    }
   },
   "outputs": [],
   "source": [
    "from pddl.logic import Predicate, constants, variables\n",
    "from pddl.core import Domain, Problem, Action, Requirements\n",
    "from pddl.formatter import domain_to_string, problem_to_string\n",
    "from pddl import parse_domain, parse_problem\n",
    "\n",
    "from pddl.logic.effects import When, AndEffect\n",
    "from pddl.logic.base import Not, And\n",
    "\n",
    "import copy\n"
   ]
  },
  {
   "cell_type": "markdown",
   "id": "41480f97",
   "metadata": {},
   "source": [
    "# Merge Domain"
   ]
  },
  {
   "cell_type": "markdown",
   "id": "15fb8c11",
   "metadata": {
    "ExecuteTime": {
     "end_time": "2023-03-27T16:36:37.690430Z",
     "start_time": "2023-03-27T16:36:37.686148Z"
    }
   },
   "source": [
    "## Merge Predicates"
   ]
  },
  {
   "cell_type": "code",
   "execution_count": 2,
   "id": "28388c51",
   "metadata": {
    "ExecuteTime": {
     "end_time": "2023-03-27T17:12:05.373469Z",
     "start_time": "2023-03-27T17:12:05.366155Z"
    }
   },
   "outputs": [],
   "source": [
    "#create a predicate to capture robot failures\n",
    "robot_failed = Predicate(\"robot_failed\")"
   ]
  },
  {
   "cell_type": "code",
   "execution_count": 3,
   "id": "f832eeef",
   "metadata": {
    "ExecuteTime": {
     "end_time": "2023-03-27T17:12:05.833495Z",
     "start_time": "2023-03-27T17:12:05.688596Z"
    }
   },
   "outputs": [],
   "source": [
    "human_domain = parse_domain('human_domain.pddl')\n",
    "human_problem = parse_problem('human_problem.pddl')\n",
    "\n",
    "robot_domain = parse_domain('robot_domain.pddl')\n",
    "robot_problem = parse_problem('robot_problem.pddl')\n",
    "\n",
    "##this is from manual merge\n",
    "# m_domain = parse_domain('merged_domain.pddl')\n",
    "# m_problem = parse_problem('merged_problem.pddl')"
   ]
  },
  {
   "cell_type": "code",
   "execution_count": 4,
   "id": "bee0ddce",
   "metadata": {
    "ExecuteTime": {
     "end_time": "2023-03-27T17:12:06.183402Z",
     "start_time": "2023-03-27T17:12:06.174164Z"
    }
   },
   "outputs": [
    {
     "data": {
      "text/plain": [
       "([Predicate(available_raw, ?r),\n",
       "  Predicate(processed_C, ?r),\n",
       "  Predicate(processed_B, ?r),\n",
       "  Predicate(processed_A, ?r)],\n",
       " [Predicate(processed_C, ?r),\n",
       "  Predicate(no_bottleneck, ),\n",
       "  Predicate(processed_B, ?r),\n",
       "  Predicate(no_need_to_calibrate, ),\n",
       "  Predicate(available_raw, ?r),\n",
       "  Predicate(processed_A, ?r)])"
      ]
     },
     "execution_count": 4,
     "metadata": {},
     "output_type": "execute_result"
    }
   ],
   "source": [
    "list_h_preds = list(human_domain.predicates)\n",
    "list_r_preds = list(robot_domain.predicates)\n",
    "list_h_preds, list_r_preds"
   ]
  },
  {
   "cell_type": "code",
   "execution_count": 5,
   "id": "5ceae89a",
   "metadata": {
    "ExecuteTime": {
     "end_time": "2023-03-27T17:12:06.606374Z",
     "start_time": "2023-03-27T17:12:06.601129Z"
    }
   },
   "outputs": [],
   "source": [
    "#change robot predicates' names: add \"r_\"\n",
    "for pred in list_r_preds:\n",
    "    pred._name = \"r_\" + str(pred.name)"
   ]
  },
  {
   "cell_type": "code",
   "execution_count": 6,
   "id": "e5724cb3",
   "metadata": {
    "ExecuteTime": {
     "end_time": "2023-03-27T17:12:07.162235Z",
     "start_time": "2023-03-27T17:12:07.153780Z"
    }
   },
   "outputs": [
    {
     "data": {
      "text/plain": [
       "[Predicate(available_raw, ?r),\n",
       " Predicate(processed_C, ?r),\n",
       " Predicate(processed_B, ?r),\n",
       " Predicate(processed_A, ?r),\n",
       " Predicate(r_processed_C, ?r),\n",
       " Predicate(r_no_bottleneck, ),\n",
       " Predicate(r_processed_B, ?r),\n",
       " Predicate(r_no_need_to_calibrate, ),\n",
       " Predicate(r_available_raw, ?r),\n",
       " Predicate(r_processed_A, ?r),\n",
       " Predicate(robot_failed, )]"
      ]
     },
     "execution_count": 6,
     "metadata": {},
     "output_type": "execute_result"
    }
   ],
   "source": [
    "#merged domain's predicates\n",
    "merged_preds = list_h_preds + list_r_preds\n",
    "merged_preds.append(robot_failed)\n",
    "merged_preds"
   ]
  },
  {
   "cell_type": "markdown",
   "id": "5817ac29",
   "metadata": {},
   "source": [
    "## Merge Actions"
   ]
  },
  {
   "cell_type": "code",
   "execution_count": 7,
   "id": "dcbdb1e8",
   "metadata": {
    "ExecuteTime": {
     "end_time": "2023-03-27T17:12:08.270832Z",
     "start_time": "2023-03-27T17:12:08.264963Z"
    },
    "scrolled": true
   },
   "outputs": [
    {
     "data": {
      "text/plain": [
       "([<pddl.core.Action at 0x105931880>,\n",
       "  <pddl.core.Action at 0x105931ac0>,\n",
       "  <pddl.core.Action at 0x105956070>],\n",
       " [<pddl.core.Action at 0x1058b47f0>,\n",
       "  <pddl.core.Action at 0x105924cd0>,\n",
       "  <pddl.core.Action at 0x1058b4820>,\n",
       "  <pddl.core.Action at 0x1058b4370>,\n",
       "  <pddl.core.Action at 0x105924310>])"
      ]
     },
     "execution_count": 7,
     "metadata": {},
     "output_type": "execute_result"
    }
   ],
   "source": [
    "list_h_actions = list(human_domain.actions)\n",
    "list_r_actions = list(robot_domain.actions)\n",
    "list_h_actions, list_r_actions"
   ]
  },
  {
   "cell_type": "code",
   "execution_count": 8,
   "id": "96f85755",
   "metadata": {
    "ExecuteTime": {
     "end_time": "2023-03-27T17:12:08.826692Z",
     "start_time": "2023-03-27T17:12:08.814377Z"
    }
   },
   "outputs": [
    {
     "name": "stdout",
     "output_type": "stream",
     "text": [
      "(and (not (processed_B ?r)) (processed_C ?r) (when (not (and (r_processed_B ?r) (r_no_bottleneck) (r_no_need_to_calibrate))) (robot_failed)) (when (and (r_processed_B ?r) (r_no_bottleneck) (r_no_need_to_calibrate)) (and (not (r_processed_B ?r)) (r_processed_C ?r))))\n",
      "(and (not (processed_A ?r)) (processed_B ?r) (when (not (and (r_processed_A ?r) (r_no_bottleneck) (r_no_need_to_calibrate))) (robot_failed)) (when (and (r_processed_A ?r) (r_no_bottleneck) (r_no_need_to_calibrate)) (and (not (r_processed_A ?r)) (r_processed_B ?r))))\n",
      "(and (processed_A ?r) (not (available_raw ?r)) (when (not (and (r_available_raw ?r) (r_no_bottleneck) (r_no_need_to_calibrate))) (robot_failed)) (when (and (r_available_raw ?r) (r_no_bottleneck) (r_no_need_to_calibrate)) (and (not (r_available_raw ?r)) (r_processed_A ?r))))\n"
     ]
    }
   ],
   "source": [
    "merged_action_list =[]\n",
    "\n",
    "for h_action in list_h_actions:\n",
    "    for r_action in list_r_actions:\n",
    "        if str(h_action.name)==str(r_action.name):\n",
    "            \n",
    "            merged_effect_list = []\n",
    "            \n",
    "            #add r_ to robot's preconditions\n",
    "            for precs in r_action.precondition.operands:\n",
    "                precs._name = \"r_\" + precs._name\n",
    "            \n",
    "            #get human effects\n",
    "            for h_eff_operand in h_action.effect.operands:\n",
    "                merged_effect_list.append(h_eff_operand)\n",
    "            \n",
    "            #get robot effects with \"r_\" added to the predicates\n",
    "            for r_eff_operand in r_action.effect.operands:\n",
    "                if type(r_eff_operand)== Not:\n",
    "                    r_eff_operand.argument._name = \"r_\"+ r_eff_operand.argument._name\n",
    "                else:\n",
    "                    r_eff_operand._name = \"r_\"+ r_eff_operand._name\n",
    "            \n",
    "            \n",
    "            #use robot effects in conditional effects\n",
    "            ce_1 = When(~(r_action.precondition), (robot_failed))\n",
    "            merged_effect_list.append(ce_1)\n",
    "            ce_2 = When((r_action.precondition), (r_action.effect))\n",
    "            merged_effect_list.append(ce_2)\n",
    "            merged_effect_list = tuple(merged_effect_list)\n",
    "            \n",
    "            #Careful! AndEffect takes the elements not the list\n",
    "            merged_effect_list = AndEffect(*merged_effect_list)\n",
    "            print(merged_effect_list)\n",
    "                         \n",
    "            \n",
    "            act = Action(\n",
    "                    str(h_action.name),\n",
    "                    parameters = h_action.parameters,\n",
    "                    precondition = h_action.precondition,\n",
    "                    effect = merged_effect_list\n",
    "            )\n",
    "            \n",
    "            merged_action_list.append(act)\n",
    "            \n"
   ]
  },
  {
   "cell_type": "markdown",
   "id": "0f483144",
   "metadata": {},
   "source": [
    "## Merge Types"
   ]
  },
  {
   "cell_type": "code",
   "execution_count": 9,
   "id": "a78f8c70",
   "metadata": {
    "ExecuteTime": {
     "end_time": "2023-03-27T17:12:10.002371Z",
     "start_time": "2023-03-27T17:12:09.992853Z"
    }
   },
   "outputs": [
    {
     "data": {
      "text/plain": [
       "{'othergoals', 'raw'}"
      ]
     },
     "execution_count": 9,
     "metadata": {},
     "output_type": "execute_result"
    }
   ],
   "source": [
    "merged_domain_types = copy.deepcopy(human_domain.types)\n",
    "merged_domain_types.add('othergoals')\n",
    "merged_domain_types"
   ]
  },
  {
   "cell_type": "markdown",
   "id": "6c7de2b1",
   "metadata": {},
   "source": [
    "## Create Merged Domain"
   ]
  },
  {
   "cell_type": "code",
   "execution_count": 10,
   "id": "5b227610",
   "metadata": {
    "ExecuteTime": {
     "end_time": "2023-03-27T17:12:14.270026Z",
     "start_time": "2023-03-27T17:12:14.261571Z"
    }
   },
   "outputs": [],
   "source": [
    "merged_domain = Domain(\"merged_domain\",\n",
    "       requirements=human_domain.requirements,\n",
    "       types=merged_domain_types,\n",
    "       constants=human_domain.constants,\n",
    "       predicates=merged_preds,\n",
    "       actions=merged_action_list)"
   ]
  },
  {
   "cell_type": "code",
   "execution_count": 11,
   "id": "14837b01",
   "metadata": {
    "ExecuteTime": {
     "end_time": "2023-03-27T17:12:17.209710Z",
     "start_time": "2023-03-27T17:12:17.202457Z"
    }
   },
   "outputs": [
    {
     "name": "stdout",
     "output_type": "stream",
     "text": [
      "(define (domain merged_domain)\n",
      "    (:requirements :conditional-effects :typing)\n",
      "    (:types othergoals raw)\n",
      "    (:predicates (available_raw ?r - raw)  (processed_A ?r - raw)  (processed_B ?r - raw)  (processed_C ?r - raw)  (r_available_raw ?r - raw)  (r_no_bottleneck) (r_no_need_to_calibrate) (r_processed_A ?r - raw)  (r_processed_B ?r - raw)  (r_processed_C ?r - raw)  (robot_failed))\n",
      "    (:action load_machine_A\n",
      "        :parameters (?r - raw )\n",
      "        :precondition (available_raw ?r)\n",
      "        :effect (and (processed_A ?r) (not (available_raw ?r)) (when (not (and (r_available_raw ?r) (r_no_bottleneck) (r_no_need_to_calibrate))) (robot_failed)) (when (and (r_available_raw ?r) (r_no_bottleneck) (r_no_need_to_calibrate)) (and (not (r_available_raw ?r)) (r_processed_A ?r))))\n",
      "    )\n",
      "     (:action load_machine_B\n",
      "        :parameters (?r - raw )\n",
      "        :precondition (processed_A ?r)\n",
      "        :effect (and (not (processed_A ?r)) (processed_B ?r) (when (not (and (r_processed_A ?r) (r_no_bottleneck) (r_no_need_to_calibrate))) (robot_failed)) (when (and (r_processed_A ?r) (r_no_bottleneck) (r_no_need_to_calibrate)) (and (not (r_processed_A ?r)) (r_processed_B ?r))))\n",
      "    )\n",
      "     (:action load_machine_C\n",
      "        :parameters (?r - raw )\n",
      "        :precondition (processed_B ?r)\n",
      "        :effect (and (not (processed_B ?r)) (processed_C ?r) (when (not (and (r_processed_B ?r) (r_no_bottleneck) (r_no_need_to_calibrate))) (robot_failed)) (when (and (r_processed_B ?r) (r_no_bottleneck) (r_no_need_to_calibrate)) (and (not (r_processed_B ?r)) (r_processed_C ?r))))\n",
      "    )\n",
      ")\n"
     ]
    }
   ],
   "source": [
    "print(domain_to_string(merged_domain))"
   ]
  },
  {
   "cell_type": "code",
   "execution_count": 12,
   "id": "f9dabd2f",
   "metadata": {
    "ExecuteTime": {
     "end_time": "2023-03-27T17:12:19.701039Z",
     "start_time": "2023-03-27T17:12:19.694557Z"
    }
   },
   "outputs": [],
   "source": [
    "# #File writer\n",
    "# with open(\"m_1_domain.pddl\", \"w\") as text_file:\n",
    "#     text_file.write(domain_to_string(merged_domain))"
   ]
  },
  {
   "cell_type": "markdown",
   "id": "4326b22d",
   "metadata": {},
   "source": [
    "# Merge Problem"
   ]
  },
  {
   "cell_type": "markdown",
   "id": "86b2efc4",
   "metadata": {},
   "source": [
    "## Merge problem objects"
   ]
  },
  {
   "cell_type": "code",
   "execution_count": 13,
   "id": "a8d98102",
   "metadata": {
    "ExecuteTime": {
     "end_time": "2023-03-27T17:12:21.761490Z",
     "start_time": "2023-03-27T17:12:21.752359Z"
    }
   },
   "outputs": [
    {
     "data": {
      "text/plain": [
       "[Constant(robot_failed), Constant(R1)]"
      ]
     },
     "execution_count": 13,
     "metadata": {},
     "output_type": "execute_result"
    }
   ],
   "source": [
    "#Object for robot failure\n",
    "rob_failure_object = constants(\"robot_failed\", types=[\"othergoals\"])\n",
    "\n",
    "#Human problem objects:\n",
    "human_problem_obj = list(human_problem.objects.copy())\n",
    "\n",
    "#Merged problem's objects:\n",
    "merged_objects_for_problem = rob_failure_object + human_problem_obj\n",
    "merged_objects_for_problem"
   ]
  },
  {
   "cell_type": "markdown",
   "id": "c7887cb1",
   "metadata": {},
   "source": [
    "## Merged Problem Inits"
   ]
  },
  {
   "cell_type": "code",
   "execution_count": 14,
   "id": "fa669060",
   "metadata": {
    "ExecuteTime": {
     "end_time": "2023-03-27T17:12:27.802470Z",
     "start_time": "2023-03-27T17:12:27.795773Z"
    }
   },
   "outputs": [],
   "source": [
    "#change robot init predicate names: add \"r_\"\n",
    "for robot_init in list(robot_problem.init):\n",
    "    robot_init._name = \"r_\" + robot_init._name\n"
   ]
  },
  {
   "cell_type": "code",
   "execution_count": 17,
   "id": "58839aed",
   "metadata": {
    "ExecuteTime": {
     "end_time": "2023-03-27T17:12:51.986931Z",
     "start_time": "2023-03-27T17:12:51.981540Z"
    }
   },
   "outputs": [
    {
     "data": {
      "text/plain": [
       "[Predicate(available_raw, R1),\n",
       " Predicate(r_no_need_to_calibrate, ),\n",
       " Predicate(r_available_raw, R1)]"
      ]
     },
     "execution_count": 17,
     "metadata": {},
     "output_type": "execute_result"
    }
   ],
   "source": [
    "merged_inits_for_problem = list(human_problem.init) + list(robot_problem.init)\n",
    "merged_inits_for_problem"
   ]
  },
  {
   "cell_type": "markdown",
   "id": "cc86da85",
   "metadata": {},
   "source": [
    "## Merged Problem Goals"
   ]
  },
  {
   "cell_type": "code",
   "execution_count": 21,
   "id": "4734867c",
   "metadata": {
    "ExecuteTime": {
     "end_time": "2023-03-27T17:13:34.849993Z",
     "start_time": "2023-03-27T17:13:34.839888Z"
    }
   },
   "outputs": [
    {
     "name": "stdout",
     "output_type": "stream",
     "text": [
      "(and (processed_C R1) (robot_failed))\n"
     ]
    }
   ],
   "source": [
    "merged_goal_list = [human_problem.goal]+ [robot_failed]\n",
    "\n",
    "#Merge them with AND\n",
    "merged_goal = And(*merged_goal_list)\n",
    "print(merged_goal)"
   ]
  },
  {
   "cell_type": "markdown",
   "id": "3b9bcf0c",
   "metadata": {},
   "source": [
    "## Create Merged Problem"
   ]
  },
  {
   "cell_type": "code",
   "execution_count": 22,
   "id": "01c4bca5",
   "metadata": {
    "ExecuteTime": {
     "end_time": "2023-03-27T17:13:46.129455Z",
     "start_time": "2023-03-27T17:13:46.120050Z"
    }
   },
   "outputs": [],
   "source": [
    "merged_problem = Problem(\"merged_problem\",\n",
    "        domain=merged_domain,\n",
    "        requirements=human_domain.requirements,\n",
    "        objects=merged_objects_for_problem,\n",
    "        init=merged_inits_for_problem,\n",
    "        goal=merged_goal\n",
    ")"
   ]
  },
  {
   "cell_type": "code",
   "execution_count": 23,
   "id": "9120e0d3",
   "metadata": {
    "ExecuteTime": {
     "end_time": "2023-03-27T17:13:47.900607Z",
     "start_time": "2023-03-27T17:13:47.893148Z"
    }
   },
   "outputs": [
    {
     "name": "stdout",
     "output_type": "stream",
     "text": [
      "(define (problem merged_problem)\n",
      "    (:domain merged_domain)\n",
      "    (:requirements :conditional-effects :typing)\n",
      "    (:objects R1 - raw robot_failed - othergoals)\n",
      "    (:init (available_raw R1) (r_available_raw R1) (r_no_need_to_calibrate))\n",
      "    (:goal (and (processed_C R1) (robot_failed)))\n",
      ")\n"
     ]
    }
   ],
   "source": [
    "print(problem_to_string(merged_problem))"
   ]
  },
  {
   "cell_type": "code",
   "execution_count": 24,
   "id": "e4b9ca4b",
   "metadata": {
    "ExecuteTime": {
     "end_time": "2023-03-27T17:15:05.740842Z",
     "start_time": "2023-03-27T17:15:05.732841Z"
    }
   },
   "outputs": [],
   "source": [
    "# #File writer\n",
    "# with open(\"m_1_problem.pddl\", \"w\") as text_file:\n",
    "#     text_file.write(problem_to_string(merged_problem))"
   ]
  }
 ],
 "metadata": {
  "kernelspec": {
   "display_name": "Python 3 (ipykernel)",
   "language": "python",
   "name": "python3"
  },
  "language_info": {
   "codemirror_mode": {
    "name": "ipython",
    "version": 3
   },
   "file_extension": ".py",
   "mimetype": "text/x-python",
   "name": "python",
   "nbconvert_exporter": "python",
   "pygments_lexer": "ipython3",
   "version": "3.9.16"
  },
  "toc": {
   "base_numbering": 1,
   "nav_menu": {},
   "number_sections": true,
   "sideBar": true,
   "skip_h1_title": false,
   "title_cell": "Table of Contents",
   "title_sidebar": "Contents",
   "toc_cell": false,
   "toc_position": {},
   "toc_section_display": true,
   "toc_window_display": false
  }
 },
 "nbformat": 4,
 "nbformat_minor": 5
}
